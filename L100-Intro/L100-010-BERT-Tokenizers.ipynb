{
 "cells": [
  {
   "cell_type": "code",
   "execution_count": 2,
   "metadata": {},
   "outputs": [
    {
     "name": "stdout",
     "output_type": "stream",
     "text": [
      "/Users/jae/ai-models/huggingface\n"
     ]
    }
   ],
   "source": [
    "import os\n",
    "print(os.environ['HF_HOME'])"
   ]
  },
  {
   "cell_type": "code",
   "execution_count": 11,
   "metadata": {},
   "outputs": [
    {
     "name": "stdout",
     "output_type": "stream",
     "text": [
      "vocab_size: 30522\n",
      "tokens: ['hello', '!', ',', 'this', 'nl', '##p', 'is', 'super', '-', 'exciting', 'to', 'learn', '.']\n",
      "token id: [7592, 999, 1010, 2023, 17953, 2361, 2003, 3565, 1011, 10990, 2000, 4553, 1012]\n"
     ]
    }
   ],
   "source": [
    "# BERT base uncased - does not distinguish between upper/lower case\n",
    "# WordPiece: BERT, DistilBERT, Electra\n",
    "# BPE (Byte Pair Encoding): GPT-2, ROBERTa\n",
    "# SentencePiece: XLM, ALBERT, XLNet, Marian, and T5.\n",
    "# Unigram: used in conjunction with SentencePiece\n",
    "\n",
    "from transformers import BertTokenizer\n",
    "\n",
    "tokenizer = BertTokenizer.from_pretrained('bert-base-uncased')\n",
    "\n",
    "# There should be 30,522 in size\n",
    "print('vocab_size:', tokenizer.vocab_size)\n",
    "\n",
    "tokens = tokenizer.tokenize('Hello!, this NLP is super-exciting to learn.')\n",
    "print('tokens:', tokens)\n",
    "\n",
    "token_ids = tokenizer.convert_tokens_to_ids(tokens)\n",
    "print('token id:', token_ids)"
   ]
  }
 ],
 "metadata": {
  "kernelspec": {
   "display_name": "jae-dev",
   "language": "python",
   "name": "python3"
  },
  "language_info": {
   "codemirror_mode": {
    "name": "ipython",
    "version": 3
   },
   "file_extension": ".py",
   "mimetype": "text/x-python",
   "name": "python",
   "nbconvert_exporter": "python",
   "pygments_lexer": "ipython3",
   "version": "3.11.9"
  }
 },
 "nbformat": 4,
 "nbformat_minor": 2
}
