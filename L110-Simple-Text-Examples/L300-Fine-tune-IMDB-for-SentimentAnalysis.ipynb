{
 "cells": [
  {
   "cell_type": "code",
   "execution_count": 6,
   "metadata": {},
   "outputs": [],
   "source": [
    "\"\"\"\n",
    "DistilBERT: a distilled version of BERT: smaller, faster, cheaper and lighter - https://arxiv.org/abs/1910.01108\n",
    "imdb: Large Movie Review Dataset, ~50k train/test, 217.35 MB https://huggingface.co/datasets/stanfordnlp/imdb\n",
    "\"\"\"\n",
    "try:\n",
    "    import torch, transformers, datasets\n",
    "except:\n",
    "    %pip install transformers datasets torch"
   ]
  },
  {
   "cell_type": "code",
   "execution_count": 4,
   "metadata": {},
   "outputs": [],
   "source": [
    "# Define IMDBTrainer class, loading distilbert-base-uncased\n",
    "# and imdb dataset for fine-tuning task\n",
    "from transformers import DistilBertForSequenceClassification\n",
    "from transformers import DistilBertTokenizer\n",
    "from transformers import TrainingArguments, Trainer\n",
    "\n",
    "from datasets import load_dataset\n",
    "\n",
    "\n",
    "class IMDBTrainer:\n",
    "    \"\"\"\n",
    "    distilbert-base-uncased size: ~268 MB\n",
    "    \"\"\"\n",
    "\n",
    "    model_id = \"distilbert-base-uncased\"\n",
    "    output_dir = \"/tmp/MAI_IMDBTrainer\"\n",
    "\n",
    "    def __init__(self):\n",
    "        self.model = DistilBertForSequenceClassification.from_pretrained(\n",
    "            self.model_id, num_labels=2\n",
    "        )\n",
    "        self.tokenizer = DistilBertTokenizer.from_pretrained(self.model_id)\n",
    "        self.dataset = load_dataset(\"imdb\")\n",
    "\n",
    "    def tokenize_function(self, examples):\n",
    "        return self.tokenizer(examples[\"text\"], padding=\"max_length\", truncation=True)\n",
    "\n",
    "    def prepare_data(self):\n",
    "        \"\"\"Tokenizing 100,000 reviews take some time (~3 minutes).\"\"\"\n",
    "        self.tokenized_datasets = self.dataset.map(self.tokenize_function, batched=True)\n",
    "\n",
    "    def train(self):\n",
    "        training_args = TrainingArguments(\n",
    "            per_device_train_batch_size=64,\n",
    "            output_dir=self.output_dir,\n",
    "            learning_rate=2e-5,\n",
    "            num_train_epochs=3,\n",
    "        )\n",
    "        trainer = Trainer(\n",
    "            model=self.model,\n",
    "            args=training_args,\n",
    "            train_dataset=self.tokenized_datasets[\"train\"],\n",
    "            eval_dataset=self.tokenized_datasets[\"test\"],\n",
    "        )\n",
    "        trainer.train()"
   ]
  },
  {
   "cell_type": "code",
   "execution_count": 3,
   "metadata": {},
   "outputs": [
    {
     "name": "stderr",
     "output_type": "stream",
     "text": [
      "Some weights of DistilBertForSequenceClassification were not initialized from the model checkpoint at distilbert-base-uncased and are newly initialized: ['pre_classifier.bias', 'classifier.bias', 'classifier.weight', 'pre_classifier.weight']\n",
      "You should probably TRAIN this model on a down-stream task to be able to use it for predictions and inference.\n"
     ]
    },
    {
     "data": {
      "application/vnd.jupyter.widget-view+json": {
       "model_id": "879f319d7aa64bffaed7c0bda02363dd",
       "version_major": 2,
       "version_minor": 0
      },
      "text/plain": [
       "Map:   0%|          | 0/25000 [00:00<?, ? examples/s]"
      ]
     },
     "metadata": {},
     "output_type": "display_data"
    },
    {
     "data": {
      "application/vnd.jupyter.widget-view+json": {
       "model_id": "a2be28c609f84238a40a56713019d09a",
       "version_major": 2,
       "version_minor": 0
      },
      "text/plain": [
       "Map:   0%|          | 0/25000 [00:00<?, ? examples/s]"
      ]
     },
     "metadata": {},
     "output_type": "display_data"
    },
    {
     "data": {
      "application/vnd.jupyter.widget-view+json": {
       "model_id": "784bc0e0532f4f13a3cddcb6e714e300",
       "version_major": 2,
       "version_minor": 0
      },
      "text/plain": [
       "Map:   0%|          | 0/50000 [00:00<?, ? examples/s]"
      ]
     },
     "metadata": {},
     "output_type": "display_data"
    }
   ],
   "source": [
    "imdb_trainer = IMDBTrainer()\n",
    "imdb_trainer.prepare_data()"
   ]
  },
  {
   "cell_type": "code",
   "execution_count": null,
   "metadata": {},
   "outputs": [],
   "source": [
    "imdb_trainer.train()"
   ]
  }
 ],
 "metadata": {
  "kernelspec": {
   "display_name": "jae-dev",
   "language": "python",
   "name": "python3"
  },
  "language_info": {
   "codemirror_mode": {
    "name": "ipython",
    "version": 3
   },
   "file_extension": ".py",
   "mimetype": "text/x-python",
   "name": "python",
   "nbconvert_exporter": "python",
   "pygments_lexer": "ipython3",
   "version": "3.11.9"
  }
 },
 "nbformat": 4,
 "nbformat_minor": 2
}
