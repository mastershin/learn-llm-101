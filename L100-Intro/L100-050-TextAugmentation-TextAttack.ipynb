{
 "cells": [
  {
   "cell_type": "code",
   "execution_count": null,
   "metadata": {},
   "outputs": [],
   "source": [
    "%pip install textattack"
   ]
  },
  {
   "cell_type": "code",
   "execution_count": 73,
   "metadata": {},
   "outputs": [
    {
     "name": "stdout",
     "output_type": "stream",
     "text": [
      "The quick brown jumps over the lazy dog.\n",
      "The quick agile brown fox jumps over the lazy dog.\n",
      "The quick brown jumps fox over the lazy dog.\n",
      "The quick fox jumps over the lazy dog.\n",
      "The quick brown fox jumps over ended the lazy dog.\n",
      "The quick brown fox jumps over lazy dog.\n",
      "brown quick The fox jumps over the lazy dog.\n",
      "The brownness quick brown fox jumps over the lazy dog.\n",
      "The quick brown fox jumps over the lazy wiener.\n",
      "The quick brown fox jumps over the lazy cad.\n",
      "The quick chocolate-brown fox jumps over the lazy dog.\n",
      "The quick the fox jumps over brown lazy dog.\n"
     ]
    },
    {
     "name": "stderr",
     "output_type": "stream",
     "text": [
      "[nltk_data] Downloading package omw-1.4 to /Users/jae/nltk_data...\n",
      "[nltk_data]   Package omw-1.4 is already up-to-date!\n"
     ]
    }
   ],
   "source": [
    "# Augment the sentence.\n",
    "# EasyDataAugmenter: ~50 MB downloaded to ~/nltk_data/\n",
    "# EmbeddingAugmenter: ~481 MB from https://textattack.s3.amazonaws.com/word_embeddings/paragramcf to ~/.cache/textattack\n",
    "from textattack.augmentation import EasyDataAugmenter\n",
    "augmenter = EasyDataAugmenter(transformations_per_example=15)\n",
    "\n",
    "sent = 'The quick brown fox jumps over the lazy dog.'\n",
    "for s in augmenter.augment(sent):\n",
    "    print(s)"
   ]
  },
  {
   "cell_type": "code",
   "execution_count": null,
   "metadata": {},
   "outputs": [],
   "source": []
  },
  {
   "cell_type": "code",
   "execution_count": null,
   "metadata": {},
   "outputs": [],
   "source": []
  }
 ],
 "metadata": {
  "kernelspec": {
   "display_name": "jae-dev",
   "language": "python",
   "name": "python3"
  },
  "language_info": {
   "codemirror_mode": {
    "name": "ipython",
    "version": 3
   },
   "file_extension": ".py",
   "mimetype": "text/x-python",
   "name": "python",
   "nbconvert_exporter": "python",
   "pygments_lexer": "ipython3",
   "version": "3.11.9"
  }
 },
 "nbformat": 4,
 "nbformat_minor": 2
}
