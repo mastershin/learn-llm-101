{
 "cells": [
  {
   "cell_type": "code",
   "execution_count": null,
   "metadata": {},
   "outputs": [],
   "source": [
    "\"\"\"\n",
    "textattack/bert-base-uncased-imdb: fine-tuned imdb using TextAttack, ~438 MB - https://huggingface.co/textattack/bert-base-uncased-imdb\n",
    "\"\"\"\n",
    "try:\n",
    "    import torch, transformers, datasets\n",
    "except:\n",
    "    %pip install transformers datasets torch"
   ]
  },
  {
   "cell_type": "code",
   "execution_count": 1,
   "metadata": {},
   "outputs": [
    {
     "name": "stderr",
     "output_type": "stream",
     "text": [
      "Xformers is not installed correctly. If you want to use memory_efficient_attention to accelerate training use the following command to install Xformers\n",
      "pip install xformers.\n"
     ]
    },
    {
     "name": "stdout",
     "output_type": "stream",
     "text": [
      "I kinda liked it but ending was not what I expected. -> Sentiment: Negative - 56.07%\n",
      "I was blown away from the beginning to the end -> Sentiment: Negative - 99.46%\n",
      "The money well spent -> Sentiment: Negative - 68.20%\n",
      "I was sleeping like a baby -> Sentiment: Negative - 65.19%\n",
      "I am gonna come back to see the sequal -> Sentiment: Negative - 64.05%\n",
      "Do not waste money on the movie ticket -> Sentiment: Negative - 53.34%\n"
     ]
    }
   ],
   "source": [
    "import torch\n",
    "from transformers import TextClassificationPipeline\n",
    "from transformers import BertForSequenceClassification, BertTokenizer\n",
    "\n",
    "\n",
    "review_texts = []\n",
    "review_texts.append(\"I kinda liked it but ending was not what I expected.\")\n",
    "review_texts.append(\"I was blown away from the beginning to the end\")\n",
    "review_texts.append(\"The money well spent\")\n",
    "review_texts.append(\"I was sleeping like a baby\")\n",
    "review_texts.append(\"I am gonna come back to see the sequal\")\n",
    "review_texts.append(\"Do not waste money on the movie ticket\")\n",
    "\n",
    "# Load a pre-trained sentiment analysis model\n",
    "model_id = \"textattack/bert-base-uncased-imdb\"  # ~438 MB\n",
    "model = BertForSequenceClassification.from_pretrained(model_id, num_labels=2)\n",
    "tokenizer = BertTokenizer.from_pretrained(model_id)\n",
    "\n",
    "\n",
    "def get_movie_sentiment_pipeline(text):\n",
    "    \"\"\"\n",
    "    Predict using transformer's pipeline method\n",
    "    Input: Movie Review Text\n",
    "    Output: ([Postive | Negative], probability)\n",
    "    \"\"\"\n",
    "\n",
    "    pipe = TextClassificationPipeline(model=model, tokenizer=tokenizer)\n",
    "    predictions = pipe(text)\n",
    "    predicted_class = predictions[0][\"label\"]\n",
    "    predicted_score = predictions[0][\"score\"]\n",
    "    return predicted_class, predicted_score\n",
    "\n",
    "\n",
    "def get_movie_sentiment_torch(text):\n",
    "    \"\"\"\n",
    "    Predict using torch functions (instead of pipeline)\n",
    "    Input: Movie Review Text\n",
    "    Output: ([Postive | Negative], probability)\n",
    "    \"\"\"\n",
    "\n",
    "    inputs = tokenizer(text, return_tensors=\"pt\")\n",
    "    with torch.no_grad():\n",
    "        outputs = model(**inputs).logits\n",
    "\n",
    "    probabilities = torch.nn.functional.softmax(outputs, dim=1)\n",
    "    predicted_class = torch.argmax(probabilities)\n",
    "    predicted_score = torch.max(probabilities)\n",
    "    return predicted_class, predicted_score\n",
    "\n",
    "\n",
    "# Display sentiment result\n",
    "for text in review_texts:\n",
    "    sentiment, prob = get_movie_sentiment_pipeline(text)\n",
    "    # sentiment, prob = get_movie_sentiment_torch(text)\n",
    "    if sentiment == 1:\n",
    "        sentiment = \"Positive\"\n",
    "    else:\n",
    "        sentiment = \"Negative\"\n",
    "    print(f\"{text} -> Sentiment: {sentiment} - {prob * 100:.2f}%\")"
   ]
  },
  {
   "cell_type": "code",
   "execution_count": null,
   "metadata": {},
   "outputs": [],
   "source": []
  },
  {
   "cell_type": "code",
   "execution_count": null,
   "metadata": {},
   "outputs": [],
   "source": []
  },
  {
   "cell_type": "code",
   "execution_count": null,
   "metadata": {},
   "outputs": [],
   "source": []
  }
 ],
 "metadata": {
  "kernelspec": {
   "display_name": "jae-dev",
   "language": "python",
   "name": "python3"
  },
  "language_info": {
   "codemirror_mode": {
    "name": "ipython",
    "version": 3
   },
   "file_extension": ".py",
   "mimetype": "text/x-python",
   "name": "python",
   "nbconvert_exporter": "python",
   "pygments_lexer": "ipython3",
   "version": "3.11.9"
  }
 },
 "nbformat": 4,
 "nbformat_minor": 2
}
