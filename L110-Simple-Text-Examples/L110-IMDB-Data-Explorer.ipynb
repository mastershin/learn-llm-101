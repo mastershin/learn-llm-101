{
 "cells": [
  {
   "cell_type": "code",
   "execution_count": null,
   "metadata": {},
   "outputs": [],
   "source": [
    "try:\n",
    "    import torch, transformers, datasets\n",
    "except:\n",
    "    %pip install transformers datasets torch"
   ]
  },
  {
   "cell_type": "code",
   "execution_count": 3,
   "metadata": {},
   "outputs": [
    {
     "name": "stdout",
     "output_type": "stream",
     "text": [
      "6677: Sentiment is Negative - This is the kind of film that everyone involved with should be embarrassed over....This is the kind of film that everyone involved with should be embarrassed over. Poor directing, ove\n",
      "10019: Sentiment is Negative - The tenuous connection between this film and the first Grease is established rig...The tenuous connection between this film and the first Grease is established right at the beginning \n",
      "21378: Sentiment is Positive - This is my favorite classic. It was filmed a little west of Philadelphia, PA whe...This is my favorite classic. It was filmed a little west of Philadelphia, PA when I was 13, in 1957,\n",
      "1323: Sentiment is Negative - the more i think about it, there was nothing redeeming about this<br /><br />mov...the more i think about it, there was nothing redeeming about this<br /><br />movie. i saw it 9 month\n",
      "20297: Sentiment is Positive - When people think of downtown Chicago they think of Walter Payton, Ditka and \"Da...When people think of downtown Chicago they think of Walter Payton, Ditka and \"Da Bears\", Ryne Sandbe\n",
      "9765: Sentiment is Negative - This movie raises a number of pressing questions in my mind. Firstly, how has Je...This movie raises a number of pressing questions in my mind. Firstly, how has Jennifer Tilly managed\n",
      "8096: Sentiment is Negative - This is only related to the first movie by the name. The plot has nothing to do ...This is only related to the first movie by the name. The plot has nothing to do with the first and t\n",
      "5181: Sentiment is Negative - RKS films always have been commercial films which suited the 90's, from GHAYAL, ...RKS films always have been commercial films which suited the 90's, from GHAYAL, DAMINI<br /><br />Hi\n",
      "7007: Sentiment is Negative - The premise of the film is that Thomas Archer's son was murdered and his wife wa...The premise of the film is that Thomas Archer's son was murdered and his wife was brutalized -- and \n",
      "17462: Sentiment is Positive - This film was in one word amazing! I have only seen it twice and have been hunti...This film was in one word amazing! I have only seen it twice and have been hunting it everywhere. A \n",
      "12475: Sentiment is Negative - This is the worst brain damaged, ultra cheap, super stupid, silly, pointless pie...This is the worst brain damaged, ultra cheap, super stupid, silly, pointless piece of trash I've eve\n",
      "13546: Sentiment is Positive - With Iphigenia, Mikhali Cacoyannis is perhaps the first film director to have su...With Iphigenia, Mikhali Cacoyannis is perhaps the first film director to have successfully brought t\n",
      "10737: Sentiment is Negative - Proof that not everything Tarantino touches turns to gold. This is most definite...Proof that not everything Tarantino touches turns to gold. This is most definitely plastic, all the \n",
      "14554: Sentiment is Positive - OK, first of all, ignore the last person' review. They admit to falling asleep t...OK, first of all, ignore the last person' review. They admit to falling asleep through it so it's no\n",
      "5653: Sentiment is Negative - \"Darkness\" was entertaining to some degree, but it never seemed to have a plot, ...\"Darkness\" was entertaining to some degree, but it never seemed to have a plot, lacking one more so \n",
      "11914: Sentiment is Negative - That might be a bit harsh for me saying that, but sadly so far in his directing ...That might be a bit harsh for me saying that, but sadly so far in his directing career its true. Jus\n",
      "20964: Sentiment is Positive - There is a certain genius behind this movie. I was laughing throughout. The scen...There is a certain genius behind this movie. I was laughing throughout. The scene in the phone sex o\n",
      "2767: Sentiment is Negative - The only reason I am commenting is because I finally figured out why Dr. Cox was...The only reason I am commenting is because I finally figured out why Dr. Cox was bald. Although we p\n",
      "22516: Sentiment is Positive - I enjoyed the cinematographic recreation of China in the 1930s in this beautiful...I enjoyed the cinematographic recreation of China in the 1930s in this beautiful film. The story is \n",
      "11881: Sentiment is Negative - I watched Phat Beach on cable for a while and I sort of enjoyed it. The fat guy ...I watched Phat Beach on cable for a while and I sort of enjoyed it. The fat guy is the best characte\n",
      "19304: Sentiment is Positive - \"Once upon a time there was a charming land called France.... People lived happi...\"Once upon a time there was a charming land called France.... People lived happily then. The women w\n",
      "14078: Sentiment is Positive - Harman and Isings 'Old Mill Pond' is a true masterpiece of the art of animation....Harman and Isings 'Old Mill Pond' is a true masterpiece of the art of animation. The consummate skil\n",
      "19467: Sentiment is Positive - I was blown away by the re-imagined Battlestar Galactica, a show that always kep...I was blown away by the re-imagined Battlestar Galactica, a show that always kept me guessing and br\n",
      "872: Sentiment is Negative - Picture the scene where a bunch of scriptwriters sit around a table and one says...Picture the scene where a bunch of scriptwriters sit around a table and one says \"lets have a black \n",
      "12756: Sentiment is Positive - This film captured my heart from the very beginning, when hearing Quincy Jones' ...This film captured my heart from the very beginning, when hearing Quincy Jones' first notes or seein\n",
      "22870: Sentiment is Positive - This movie is inspiring to anyone who is or has been in a tough jam, whether fin...This movie is inspiring to anyone who is or has been in a tough jam, whether financially or emotiona\n",
      "2063: Sentiment is Negative - Gods...where to start. I was only able to stomach about the first 10 minutes bef...Gods...where to start. I was only able to stomach about the first 10 minutes before I turned it off \n",
      "18453: Sentiment is Positive - This movie is a great. The plot is very true to the book which is a classic writ...This movie is a great. The plot is very true to the book which is a classic written by Mark Twain. T\n",
      "14786: Sentiment is Positive - I've watched this movie twice, and I plan to see it again. It is the movie that ...I've watched this movie twice, and I plan to see it again. It is the movie that puts you in the dire\n",
      "11813: Sentiment is Negative - First up this film, according to the slick said it won \"best film\" at \"Worldfest...First up this film, according to the slick said it won \"best film\" at \"Worldfest\" Film festival in H\n"
     ]
    }
   ],
   "source": [
    "\"\"\"\n",
    "This script loads the IMDB movie review dataset from Hugging Face Hub and analyzes the sentiment of random reviews.\n",
    "\n",
    "Dataset: IMDB movie reviews (~80 MB)\n",
    "Source: Hugging Face Hub\n",
    "\n",
    "Script functionality:\n",
    "\n",
    "1. Loads the IMDB dataset using the `load_dataset` function from the `datasets` library.\n",
    "2. Specifies the number of reviews to analyze (30 in this case).\n",
    "3. Randomly selects a review from the training split of the dataset.\n",
    "4. Accesses the text and sentiment label of the selected review.\n",
    "5. Analyzes the sentiment label and prints the review number, sentiment (Positive or Negative), and a shortened version of the review text.\n",
    "\n",
    "Note: The `shortened_review` variable is created by concatenating the first 80 characters of the review text, an ellipsis (...), and the last 100 characters of the review text. This is done to provide a brief summary of the review.\n",
    "\"\"\"\n",
    "\n",
    "from datasets import load_dataset\n",
    "import random\n",
    "\n",
    "# Load the IMDB movie review dataset from Hugging Face Hub. ~80 MB\n",
    "dataset = load_dataset(\"imdb\")\n",
    "len_dataset = len(dataset[\"train\"])\n",
    "# Specify the review number you want to analyze (assuming indexing starts from 0)\n",
    "for idx in range(30):\n",
    "    review_number = random.randint(1, len_dataset)\n",
    "\n",
    "    # Access the specific review using its index from the training split\n",
    "    review = dataset[\"train\"][review_number]\n",
    "\n",
    "    shortened_review = review[\"text\"][:80] + \"...\" + review[\"text\"][:100]\n",
    "\n",
    "    # Analyze the sentiment label of the review (1 for positive, 0 for negative)\n",
    "    if review[\"label\"] == 1:\n",
    "        sentiment = \"Positive\"\n",
    "    else:\n",
    "        sentiment = \"Negative\"\n",
    "    print(f\"{review_number}: Sentiment is {sentiment} - {shortened_review}\")"
   ]
  },
  {
   "cell_type": "code",
   "execution_count": null,
   "metadata": {},
   "outputs": [],
   "source": []
  },
  {
   "cell_type": "code",
   "execution_count": null,
   "metadata": {},
   "outputs": [],
   "source": []
  }
 ],
 "metadata": {
  "kernelspec": {
   "display_name": "jae-dev",
   "language": "python",
   "name": "python3"
  },
  "language_info": {
   "codemirror_mode": {
    "name": "ipython",
    "version": 3
   },
   "file_extension": ".py",
   "mimetype": "text/x-python",
   "name": "python",
   "nbconvert_exporter": "python",
   "pygments_lexer": "ipython3",
   "version": "3.11.9"
  }
 },
 "nbformat": 4,
 "nbformat_minor": 2
}
